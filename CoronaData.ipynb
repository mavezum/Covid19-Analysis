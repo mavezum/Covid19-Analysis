{
 "cells": [
  {
   "cell_type": "code",
   "execution_count": 1,
   "metadata": {},
   "outputs": [],
   "source": [
    "from datetime import date, timedelta\n",
    "import requests\n",
    "from requests_ntlm import HttpNtlmAuth\n",
    "import pandas as pd\n",
    "import ipywidgets as widgets\n",
    "import matplotlib.pyplot as plt\n",
    "%matplotlib inline  "
   ]
  },
  {
   "cell_type": "markdown",
   "metadata": {},
   "source": [
    "Download newest data from ECDC website. This uses the current date from your computer."
   ]
  },
  {
   "cell_type": "code",
   "execution_count": 2,
   "metadata": {},
   "outputs": [],
   "source": [
    "today = date.today() - timedelta(days=1)\n",
    "ecdcUrl = ('https://www.ecdc.europa.eu/sites/default/files/documents/COVID-19-geographic-disbtribution-worldwide-%s.xlsx' %today)\n",
    "fname = 'ecdc.xlsx'\n",
    "\n",
    "r = requests.get(ecdcUrl, auth=HttpNtlmAuth(':',':'))\n",
    "\n",
    "with open(fname, 'wb') as f:\n",
    "    f.write(r.content)"
   ]
  },
  {
   "cell_type": "code",
   "execution_count": 3,
   "metadata": {},
   "outputs": [
    {
     "data": {
      "text/html": [
       "<div>\n",
       "<style scoped>\n",
       "    .dataframe tbody tr th:only-of-type {\n",
       "        vertical-align: middle;\n",
       "    }\n",
       "\n",
       "    .dataframe tbody tr th {\n",
       "        vertical-align: top;\n",
       "    }\n",
       "\n",
       "    .dataframe thead th {\n",
       "        text-align: right;\n",
       "    }\n",
       "</style>\n",
       "<table border=\"1\" class=\"dataframe\">\n",
       "  <thead>\n",
       "    <tr style=\"text-align: right;\">\n",
       "      <th></th>\n",
       "      <th>dateRep</th>\n",
       "      <th>day</th>\n",
       "      <th>month</th>\n",
       "      <th>year</th>\n",
       "      <th>cases</th>\n",
       "      <th>deaths</th>\n",
       "      <th>countriesAndTerritories</th>\n",
       "      <th>geoId</th>\n",
       "      <th>countryterritoryCode</th>\n",
       "      <th>popData2018</th>\n",
       "      <th>continentExp</th>\n",
       "    </tr>\n",
       "  </thead>\n",
       "  <tbody>\n",
       "    <tr>\n",
       "      <th>15485</th>\n",
       "      <td>2020-03-25</td>\n",
       "      <td>25</td>\n",
       "      <td>3</td>\n",
       "      <td>2020</td>\n",
       "      <td>0</td>\n",
       "      <td>0</td>\n",
       "      <td>Zimbabwe</td>\n",
       "      <td>ZW</td>\n",
       "      <td>ZWE</td>\n",
       "      <td>14439018.0</td>\n",
       "      <td>Africa</td>\n",
       "    </tr>\n",
       "    <tr>\n",
       "      <th>15486</th>\n",
       "      <td>2020-03-24</td>\n",
       "      <td>24</td>\n",
       "      <td>3</td>\n",
       "      <td>2020</td>\n",
       "      <td>0</td>\n",
       "      <td>1</td>\n",
       "      <td>Zimbabwe</td>\n",
       "      <td>ZW</td>\n",
       "      <td>ZWE</td>\n",
       "      <td>14439018.0</td>\n",
       "      <td>Africa</td>\n",
       "    </tr>\n",
       "    <tr>\n",
       "      <th>15487</th>\n",
       "      <td>2020-03-23</td>\n",
       "      <td>23</td>\n",
       "      <td>3</td>\n",
       "      <td>2020</td>\n",
       "      <td>0</td>\n",
       "      <td>0</td>\n",
       "      <td>Zimbabwe</td>\n",
       "      <td>ZW</td>\n",
       "      <td>ZWE</td>\n",
       "      <td>14439018.0</td>\n",
       "      <td>Africa</td>\n",
       "    </tr>\n",
       "    <tr>\n",
       "      <th>15488</th>\n",
       "      <td>2020-03-22</td>\n",
       "      <td>22</td>\n",
       "      <td>3</td>\n",
       "      <td>2020</td>\n",
       "      <td>1</td>\n",
       "      <td>0</td>\n",
       "      <td>Zimbabwe</td>\n",
       "      <td>ZW</td>\n",
       "      <td>ZWE</td>\n",
       "      <td>14439018.0</td>\n",
       "      <td>Africa</td>\n",
       "    </tr>\n",
       "    <tr>\n",
       "      <th>15489</th>\n",
       "      <td>2020-03-21</td>\n",
       "      <td>21</td>\n",
       "      <td>3</td>\n",
       "      <td>2020</td>\n",
       "      <td>1</td>\n",
       "      <td>0</td>\n",
       "      <td>Zimbabwe</td>\n",
       "      <td>ZW</td>\n",
       "      <td>ZWE</td>\n",
       "      <td>14439018.0</td>\n",
       "      <td>Africa</td>\n",
       "    </tr>\n",
       "  </tbody>\n",
       "</table>\n",
       "</div>"
      ],
      "text/plain": [
       "         dateRep  day  month  year  cases  deaths countriesAndTerritories  \\\n",
       "15485 2020-03-25   25      3  2020      0       0                Zimbabwe   \n",
       "15486 2020-03-24   24      3  2020      0       1                Zimbabwe   \n",
       "15487 2020-03-23   23      3  2020      0       0                Zimbabwe   \n",
       "15488 2020-03-22   22      3  2020      1       0                Zimbabwe   \n",
       "15489 2020-03-21   21      3  2020      1       0                Zimbabwe   \n",
       "\n",
       "      geoId countryterritoryCode  popData2018 continentExp  \n",
       "15485    ZW                  ZWE   14439018.0       Africa  \n",
       "15486    ZW                  ZWE   14439018.0       Africa  \n",
       "15487    ZW                  ZWE   14439018.0       Africa  \n",
       "15488    ZW                  ZWE   14439018.0       Africa  \n",
       "15489    ZW                  ZWE   14439018.0       Africa  "
      ]
     },
     "execution_count": 3,
     "metadata": {},
     "output_type": "execute_result"
    }
   ],
   "source": [
    "totalData = pd.read_excel(fname)\n",
    "totalData.tail()"
   ]
  },
  {
   "cell_type": "markdown",
   "metadata": {},
   "source": [
    "Select countries to compare. Command or ctrl select different countries."
   ]
  },
  {
   "cell_type": "code",
   "execution_count": 4,
   "metadata": {},
   "outputs": [
    {
     "data": {
      "application/vnd.jupyter.widget-view+json": {
       "model_id": "ec11abcba67f4c45a1a9845fd3cf4d3a",
       "version_major": 2,
       "version_minor": 0
      },
      "text/plain": [
       "SelectMultiple(options=('Afghanistan', 'Albania', 'Algeria', 'Andorra', 'Angola', 'Anguilla', 'Antigua_and_Bar…"
      ]
     },
     "metadata": {},
     "output_type": "display_data"
    }
   ],
   "source": [
    "countries = totalData['countriesAndTerritories'].unique()\n",
    "countrySelector = widgets.SelectMultiple(\n",
    "    options=countries,\n",
    "    description='',\n",
    "    rows=15,\n",
    ")\n",
    "countrySelector"
   ]
  },
  {
   "cell_type": "code",
   "execution_count": 5,
   "metadata": {},
   "outputs": [
    {
     "name": "stdout",
     "output_type": "stream",
     "text": [
      "('Brazil', 'China', 'Germany', 'Italy', 'United_States_of_America')\n"
     ]
    },
    {
     "data": {
      "text/html": [
       "<div>\n",
       "<style scoped>\n",
       "    .dataframe tbody tr th:only-of-type {\n",
       "        vertical-align: middle;\n",
       "    }\n",
       "\n",
       "    .dataframe tbody tr th {\n",
       "        vertical-align: top;\n",
       "    }\n",
       "\n",
       "    .dataframe thead th {\n",
       "        text-align: right;\n",
       "    }\n",
       "</style>\n",
       "<table border=\"1\" class=\"dataframe\">\n",
       "  <thead>\n",
       "    <tr style=\"text-align: right;\">\n",
       "      <th>countriesAndTerritories</th>\n",
       "      <th>dateRep</th>\n",
       "      <th>Brazil</th>\n",
       "      <th>China</th>\n",
       "      <th>Germany</th>\n",
       "      <th>Italy</th>\n",
       "      <th>United_States_of_America</th>\n",
       "    </tr>\n",
       "  </thead>\n",
       "  <tbody>\n",
       "    <tr>\n",
       "      <th>124</th>\n",
       "      <td>2020-05-03</td>\n",
       "      <td>4970</td>\n",
       "      <td>2</td>\n",
       "      <td>793</td>\n",
       "      <td>1900</td>\n",
       "      <td>29288</td>\n",
       "    </tr>\n",
       "    <tr>\n",
       "      <th>125</th>\n",
       "      <td>2020-05-04</td>\n",
       "      <td>4588</td>\n",
       "      <td>3</td>\n",
       "      <td>679</td>\n",
       "      <td>1389</td>\n",
       "      <td>24972</td>\n",
       "    </tr>\n",
       "    <tr>\n",
       "      <th>126</th>\n",
       "      <td>2020-05-05</td>\n",
       "      <td>6633</td>\n",
       "      <td>2</td>\n",
       "      <td>685</td>\n",
       "      <td>1221</td>\n",
       "      <td>22593</td>\n",
       "    </tr>\n",
       "    <tr>\n",
       "      <th>127</th>\n",
       "      <td>2020-05-06</td>\n",
       "      <td>6935</td>\n",
       "      <td>2</td>\n",
       "      <td>1037</td>\n",
       "      <td>1075</td>\n",
       "      <td>23841</td>\n",
       "    </tr>\n",
       "    <tr>\n",
       "      <th>128</th>\n",
       "      <td>2020-05-07</td>\n",
       "      <td>10503</td>\n",
       "      <td>2</td>\n",
       "      <td>1194</td>\n",
       "      <td>1444</td>\n",
       "      <td>24128</td>\n",
       "    </tr>\n",
       "  </tbody>\n",
       "</table>\n",
       "</div>"
      ],
      "text/plain": [
       "countriesAndTerritories    dateRep  Brazil  China  Germany  Italy  \\\n",
       "124                     2020-05-03    4970      2      793   1900   \n",
       "125                     2020-05-04    4588      3      679   1389   \n",
       "126                     2020-05-05    6633      2      685   1221   \n",
       "127                     2020-05-06    6935      2     1037   1075   \n",
       "128                     2020-05-07   10503      2     1194   1444   \n",
       "\n",
       "countriesAndTerritories  United_States_of_America  \n",
       "124                                         29288  \n",
       "125                                         24972  \n",
       "126                                         22593  \n",
       "127                                         23841  \n",
       "128                                         24128  "
      ]
     },
     "execution_count": 5,
     "metadata": {},
     "output_type": "execute_result"
    }
   ],
   "source": [
    "analyzedCountries = countrySelector.value\n",
    "print(analyzedCountries)\n",
    "df = totalData[totalData['countriesAndTerritories'].isin(analyzedCountries)]\n",
    "dfNewCases = pd.pivot_table(df, index='dateRep', columns = 'countriesAndTerritories', values='cases').reset_index()\n",
    "dfDeaths = pd.pivot_table(df, index='dateRep', columns = 'countriesAndTerritories', values='deaths').reset_index()\n",
    "\n",
    "dfNewCases.tail()"
   ]
  },
  {
   "cell_type": "code",
   "execution_count": 6,
   "metadata": {},
   "outputs": [
    {
     "data": {
      "image/png": "[encoded data removed]",
      "text/plain": [
       "<Figure size 432x288 with 1 Axes>"
      ]
     },
     "metadata": {},
     "output_type": "display_data"
    }
   ],
   "source": [
    "fig, ax = plt.subplots(constrained_layout=True)\n",
    "\n",
    "for country in analyzedCountries:\n",
    "    a = ax.plot(dfNewCases.dateRep, dfNewCases[country], '.-')\n",
    "    \n",
    "ax.set_ylabel('New Cases per Country per Day')\n",
    "ax.set_title('New Cases of Covid19')\n",
    "ax.legend()\n",
    "\n",
    "plt.xticks(rotation=70)\n",
    "plt.show()"
   ]
  },
  {
   "cell_type": "code",
   "execution_count": 7,
   "metadata": {},
   "outputs": [
    {
     "data": {
      "text/plain": [
       "1228603"
      ]
     },
     "execution_count": 7,
     "metadata": {},
     "output_type": "execute_result"
    }
   ],
   "source": [
    "sum(dfNewCases.United_States_of_America)"
   ]
  },
  {
   "cell_type": "code",
   "execution_count": 9,
   "metadata": {},
   "outputs": [
    {
     "data": {
      "text/html": [
       "<div>\n",
       "<style scoped>\n",
       "    .dataframe tbody tr th:only-of-type {\n",
       "        vertical-align: middle;\n",
       "    }\n",
       "\n",
       "    .dataframe tbody tr th {\n",
       "        vertical-align: top;\n",
       "    }\n",
       "\n",
       "    .dataframe thead th {\n",
       "        text-align: right;\n",
       "    }\n",
       "</style>\n",
       "<table border=\"1\" class=\"dataframe\">\n",
       "  <thead>\n",
       "    <tr style=\"text-align: right;\">\n",
       "      <th>countriesAndTerritories</th>\n",
       "      <th>dateRep</th>\n",
       "      <th>Brazil</th>\n",
       "      <th>China</th>\n",
       "      <th>Germany</th>\n",
       "      <th>Italy</th>\n",
       "      <th>United_States_of_America</th>\n",
       "      <th>totalCasesBrazil</th>\n",
       "      <th>totalCasesChina</th>\n",
       "      <th>totalCasesGermany</th>\n",
       "      <th>totalCasesItaly</th>\n",
       "      <th>totalCasesUnited_States_of_America</th>\n",
       "    </tr>\n",
       "  </thead>\n",
       "  <tbody>\n",
       "    <tr>\n",
       "      <th>124</th>\n",
       "      <td>2020-05-03</td>\n",
       "      <td>4970</td>\n",
       "      <td>2</td>\n",
       "      <td>793</td>\n",
       "      <td>1900</td>\n",
       "      <td>29288</td>\n",
       "      <td>96559</td>\n",
       "      <td>83961</td>\n",
       "      <td>162496</td>\n",
       "      <td>209328</td>\n",
       "      <td>1133069</td>\n",
       "    </tr>\n",
       "    <tr>\n",
       "      <th>125</th>\n",
       "      <td>2020-05-04</td>\n",
       "      <td>4588</td>\n",
       "      <td>3</td>\n",
       "      <td>679</td>\n",
       "      <td>1389</td>\n",
       "      <td>24972</td>\n",
       "      <td>101147</td>\n",
       "      <td>83964</td>\n",
       "      <td>163175</td>\n",
       "      <td>210717</td>\n",
       "      <td>1158041</td>\n",
       "    </tr>\n",
       "    <tr>\n",
       "      <th>126</th>\n",
       "      <td>2020-05-05</td>\n",
       "      <td>6633</td>\n",
       "      <td>2</td>\n",
       "      <td>685</td>\n",
       "      <td>1221</td>\n",
       "      <td>22593</td>\n",
       "      <td>107780</td>\n",
       "      <td>83966</td>\n",
       "      <td>163860</td>\n",
       "      <td>211938</td>\n",
       "      <td>1180634</td>\n",
       "    </tr>\n",
       "    <tr>\n",
       "      <th>127</th>\n",
       "      <td>2020-05-06</td>\n",
       "      <td>6935</td>\n",
       "      <td>2</td>\n",
       "      <td>1037</td>\n",
       "      <td>1075</td>\n",
       "      <td>23841</td>\n",
       "      <td>114715</td>\n",
       "      <td>83968</td>\n",
       "      <td>164897</td>\n",
       "      <td>213013</td>\n",
       "      <td>1204475</td>\n",
       "    </tr>\n",
       "    <tr>\n",
       "      <th>128</th>\n",
       "      <td>2020-05-07</td>\n",
       "      <td>10503</td>\n",
       "      <td>2</td>\n",
       "      <td>1194</td>\n",
       "      <td>1444</td>\n",
       "      <td>24128</td>\n",
       "      <td>125218</td>\n",
       "      <td>83970</td>\n",
       "      <td>166091</td>\n",
       "      <td>214457</td>\n",
       "      <td>1228603</td>\n",
       "    </tr>\n",
       "  </tbody>\n",
       "</table>\n",
       "</div>"
      ],
      "text/plain": [
       "countriesAndTerritories    dateRep  Brazil  China  Germany  Italy  \\\n",
       "124                     2020-05-03    4970      2      793   1900   \n",
       "125                     2020-05-04    4588      3      679   1389   \n",
       "126                     2020-05-05    6633      2      685   1221   \n",
       "127                     2020-05-06    6935      2     1037   1075   \n",
       "128                     2020-05-07   10503      2     1194   1444   \n",
       "\n",
       "countriesAndTerritories  United_States_of_America  totalCasesBrazil  \\\n",
       "124                                         29288             96559   \n",
       "125                                         24972            101147   \n",
       "126                                         22593            107780   \n",
       "127                                         23841            114715   \n",
       "128                                         24128            125218   \n",
       "\n",
       "countriesAndTerritories  totalCasesChina  totalCasesGermany  totalCasesItaly  \\\n",
       "124                                83961             162496           209328   \n",
       "125                                83964             163175           210717   \n",
       "126                                83966             163860           211938   \n",
       "127                                83968             164897           213013   \n",
       "128                                83970             166091           214457   \n",
       "\n",
       "countriesAndTerritories  totalCasesUnited_States_of_America  \n",
       "124                                                 1133069  \n",
       "125                                                 1158041  \n",
       "126                                                 1180634  \n",
       "127                                                 1204475  \n",
       "128                                                 1228603  "
      ]
     },
     "execution_count": 9,
     "metadata": {},
     "output_type": "execute_result"
    }
   ],
   "source": [
    "for country in analyzedCountries:\n",
    "    colName = 'totalCases' + country\n",
    "    dfNewCases[colName] = dfNewCases[country].cumsum() #use the cumulative sum to add all new cases up to now and calculate total cases\n",
    "\n",
    "dfNewCases.tail()"
   ]
  },
  {
   "cell_type": "code",
   "execution_count": 13,
   "metadata": {},
   "outputs": [
    {
     "name": "stdout",
     "output_type": "stream",
     "text": [
      "Brazil passed 1000 cases on 2020-03-22 00:00:00\n",
      "China passed 1000 cases on 2020-01-25 00:00:00\n",
      "Germany passed 1000 cases on 2020-03-10 00:00:00\n",
      "Italy passed 1000 cases on 2020-03-01 00:00:00\n",
      "United_States_of_America passed 1000 cases on 2020-03-11 00:00:00\n"
     ]
    },
    {
     "data": {
      "text/plain": [
       "<matplotlib.legend.Legend at 0x12448c160>"
      ]
     },
     "execution_count": 13,
     "metadata": {},
     "output_type": "execute_result"
    },
    {
     "data": {
      "image/png": "[encoded data removed]",
      "text/plain": [
       "<Figure size 432x288 with 1 Axes>"
      ]
     },
     "metadata": {},
     "output_type": "display_data"
    }
   ],
   "source": [
    "fig, ax = plt.subplots(constrained_layout=True)\n",
    "for country in analyzedCountries:\n",
    "    colName = 'totalCases' + country\n",
    "    #dfOver1000AllCountries = dfNewCases.loc[dfNewCases[colName] >= 1000]\n",
    "    dftemp = dfNewCases.loc[dfNewCases[colName] >= 1000].reset_index(drop=True)\n",
    "    a = ax.plot(dftemp[colName], '.-')\n",
    "    \n",
    "    datePassed1000 = dftemp.iloc[0].dateRep\n",
    "    print(country, 'passed 1000 cases on', datePassed1000)\n",
    "\n",
    "    \n",
    "plt.yscale('log')\n",
    "ax.set_title('Total cases since total > 100')\n",
    "ax.legend()"
   ]
  },
  {
   "cell_type": "code",
   "execution_count": null,
   "metadata": {},
   "outputs": [],
   "source": []
  }
 ],
 "metadata": {
  "kernelspec": {
   "display_name": "Python 3",
   "language": "python",
   "name": "python3"
  },
  "language_info": {
   "codemirror_mode": {
    "name": "ipython",
    "version": 3
   },
   "file_extension": ".py",
   "mimetype": "text/x-python",
   "name": "python",
   "nbconvert_exporter": "python",
   "pygments_lexer": "ipython3",
   "version": "3.6.7"
  }
 },
 "nbformat": 4,
 "nbformat_minor": 2
}
