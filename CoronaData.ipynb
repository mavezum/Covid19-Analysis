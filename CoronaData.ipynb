{
 "cells": [
  {
   "cell_type": "code",
   "execution_count": 1,
   "metadata": {},
   "outputs": [],
   "source": [
    "from datetime import date, timedelta\n",
    "import requests\n",
    "from requests_ntlm import HttpNtlmAuth\n",
    "import pandas as pd\n",
    "import ipywidgets as widgets\n",
    "import matplotlib.pyplot as plt\n",
    "%matplotlib inline  "
   ]
  },
  {
   "cell_type": "markdown",
   "metadata": {},
   "source": [
    "Download newest data from ECDC website. This uses the current date from your computer."
   ]
  },
  {
   "cell_type": "code",
   "execution_count": 2,
   "metadata": {},
   "outputs": [],
   "source": [
    "today = date.today() - timedelta(days=1)\n",
    "ecdcUrl = ('https://www.ecdc.europa.eu/sites/default/files/documents/COVID-19-geographic-disbtribution-worldwide-%s.xlsx' %today)\n",
    "fname = 'ecdc.xlsx'\n",
    "\n",
    "r = requests.get(ecdcUrl, auth=HttpNtlmAuth(':',':'))\n",
    "\n",
    "with open(fname, 'wb') as f:\n",
    "    f.write(r.content)"
   ]
  },
  {
   "cell_type": "code",
   "execution_count": 3,
   "metadata": {},
   "outputs": [],
   "source": [
    "totalData = pd.read_excel(fname)\n",
    "#totalData.tail()"
   ]
  },
  {
   "cell_type": "markdown",
   "metadata": {},
   "source": [
    "Select countries to compare. Command or ctrl select different countries."
   ]
  },
  {
   "cell_type": "code",
   "execution_count": 4,
   "metadata": {},
   "outputs": [
    {
     "data": {
      "application/vnd.jupyter.widget-view+json": {
       "model_id": "e4324416cd894004bc1fd191ac083fcf",
       "version_major": 2,
       "version_minor": 0
      },
      "text/plain": [
       "SelectMultiple(options=('Afghanistan', 'Albania', 'Algeria', 'Andorra', 'Angola', 'Anguilla', 'Antigua_and_Bar…"
      ]
     },
     "metadata": {},
     "output_type": "display_data"
    }
   ],
   "source": [
    "countries = totalData['countriesAndTerritories'].unique()\n",
    "countrySelector = widgets.SelectMultiple(\n",
    "    options=countries,\n",
    "    description='',\n",
    "    rows=15,\n",
    ")\n",
    "countrySelector"
   ]
  },
  {
   "cell_type": "code",
   "execution_count": 5,
   "metadata": {},
   "outputs": [
    {
     "name": "stdout",
     "output_type": "stream",
     "text": [
      "('Brazil', 'China', 'Germany', 'Italy', 'United_States_of_America')\n"
     ]
    },
    {
     "data": {
      "text/html": [
       "<div>\n",
       "<style scoped>\n",
       "    .dataframe tbody tr th:only-of-type {\n",
       "        vertical-align: middle;\n",
       "    }\n",
       "\n",
       "    .dataframe tbody tr th {\n",
       "        vertical-align: top;\n",
       "    }\n",
       "\n",
       "    .dataframe thead th {\n",
       "        text-align: right;\n",
       "    }\n",
       "</style>\n",
       "<table border=\"1\" class=\"dataframe\">\n",
       "  <thead>\n",
       "    <tr style=\"text-align: right;\">\n",
       "      <th>countriesAndTerritories</th>\n",
       "      <th>dateRep</th>\n",
       "      <th>Brazil</th>\n",
       "      <th>China</th>\n",
       "      <th>Germany</th>\n",
       "      <th>Italy</th>\n",
       "      <th>United_States_of_America</th>\n",
       "    </tr>\n",
       "  </thead>\n",
       "  <tbody>\n",
       "    <tr>\n",
       "      <th>114</th>\n",
       "      <td>2020-04-23</td>\n",
       "      <td>2678</td>\n",
       "      <td>12</td>\n",
       "      <td>2352</td>\n",
       "      <td>3370</td>\n",
       "      <td>17588</td>\n",
       "    </tr>\n",
       "    <tr>\n",
       "      <th>115</th>\n",
       "      <td>2020-04-24</td>\n",
       "      <td>3735</td>\n",
       "      <td>8</td>\n",
       "      <td>2337</td>\n",
       "      <td>2646</td>\n",
       "      <td>26543</td>\n",
       "    </tr>\n",
       "    <tr>\n",
       "      <th>116</th>\n",
       "      <td>2020-04-25</td>\n",
       "      <td>3503</td>\n",
       "      <td>15</td>\n",
       "      <td>2055</td>\n",
       "      <td>3021</td>\n",
       "      <td>21352</td>\n",
       "    </tr>\n",
       "    <tr>\n",
       "      <th>117</th>\n",
       "      <td>2020-04-26</td>\n",
       "      <td>5514</td>\n",
       "      <td>10</td>\n",
       "      <td>1737</td>\n",
       "      <td>2357</td>\n",
       "      <td>48529</td>\n",
       "    </tr>\n",
       "    <tr>\n",
       "      <th>118</th>\n",
       "      <td>2020-04-27</td>\n",
       "      <td>3379</td>\n",
       "      <td>290</td>\n",
       "      <td>1018</td>\n",
       "      <td>2324</td>\n",
       "      <td>26857</td>\n",
       "    </tr>\n",
       "  </tbody>\n",
       "</table>\n",
       "</div>"
      ],
      "text/plain": [
       "countriesAndTerritories    dateRep  Brazil  China  Germany  Italy  \\\n",
       "114                     2020-04-23    2678     12     2352   3370   \n",
       "115                     2020-04-24    3735      8     2337   2646   \n",
       "116                     2020-04-25    3503     15     2055   3021   \n",
       "117                     2020-04-26    5514     10     1737   2357   \n",
       "118                     2020-04-27    3379    290     1018   2324   \n",
       "\n",
       "countriesAndTerritories  United_States_of_America  \n",
       "114                                         17588  \n",
       "115                                         26543  \n",
       "116                                         21352  \n",
       "117                                         48529  \n",
       "118                                         26857  "
      ]
     },
     "execution_count": 5,
     "metadata": {},
     "output_type": "execute_result"
    }
   ],
   "source": [
    "analyzedCountries = countrySelector.value\n",
    "print(analyzedCountries)\n",
    "df = totalData[totalData['countriesAndTerritories'].isin(analyzedCountries)]\n",
    "dfNewCases = pd.pivot_table(df, index='dateRep', columns = 'countriesAndTerritories', values='cases').reset_index()\n",
    "dfDeaths = pd.pivot_table(df, index='dateRep', columns = 'countriesAndTerritories', values='deaths').reset_index()\n",
    "\n",
    "dfNewCases.tail()"
   ]
  },
  {
   "cell_type": "code",
   "execution_count": 6,
   "metadata": {},
   "outputs": [
    {
     "data": {
      "image/png": "[encoded data removed]",
      "text/plain": [
       "<Figure size 432x288 with 1 Axes>"
      ]
     },
     "metadata": {},
     "output_type": "display_data"
    }
   ],
   "source": [
    "fig, ax = plt.subplots(constrained_layout=True)\n",
    "\n",
    "for country in analyzedCountries:\n",
    "    a = ax.plot(dfNewCases.dateRep, dfNewCases[country], '.-')\n",
    "    \n",
    "ax.set_ylabel('New Cases per Country per Day')\n",
    "ax.set_title('New Cases of Covid19')\n",
    "ax.legend()\n",
    "\n",
    "plt.xticks(rotation=70)\n",
    "plt.show()"
   ]
  },
  {
   "cell_type": "code",
   "execution_count": 8,
   "metadata": {},
   "outputs": [
    {
     "data": {
      "text/plain": [
       "965910"
      ]
     },
     "execution_count": 8,
     "metadata": {},
     "output_type": "execute_result"
    }
   ],
   "source": [
    "sum(dfNewCases.United_States_of_America)"
   ]
  },
  {
   "cell_type": "code",
   "execution_count": 9,
   "metadata": {},
   "outputs": [
    {
     "name": "stdout",
     "output_type": "stream",
     "text": [
      "Brazil passed 1000 cases on 2020-03-22 00:00:00\n",
      "China passed 1000 cases on 2020-01-25 00:00:00\n",
      "Germany passed 1000 cases on 2020-03-10 00:00:00\n",
      "Italy passed 1000 cases on 2020-03-01 00:00:00\n",
      "United_States_of_America passed 1000 cases on 2020-03-11 00:00:00\n"
     ]
    }
   ],
   "source": [
    "biggestLength = 0\n",
    "oldestCountry = '';\n",
    "newMergedDf = [];\n",
    "for country in analyzedCountries:\n",
    "    colName = 'totalCases' + country\n",
    "    dfNewCases[colName] = dfNewCases[country].cumsum() #use the cumulative sum to add all new cases up to now and calculate total cases\n",
    "    dfOver1000 = dfNewCases.loc[dfNewCases[colName] >= 1000]\n",
    "    if(len(dfOver1000) > biggestLength):\n",
    "        biggestLength = len(dfOver1000)\n",
    "        oldestCountry = country\n",
    "      #  newMergedDf = dfNewCases[dfNewCases[colName]] #totalData[totalData['countriesAndTerritories']\n",
    "       # newMergedDf[country] = dfNewCases[country]\n",
    "    \n",
    "    datePassed1000 = dfOver1000.iloc[0].dateRep\n",
    "    print(country, 'passed 1000 cases on', datePassed1000)\n"
   ]
  },
  {
   "cell_type": "code",
   "execution_count": 11,
   "metadata": {},
   "outputs": [
    {
     "data": {
      "text/html": [
       "<div>\n",
       "<style scoped>\n",
       "    .dataframe tbody tr th:only-of-type {\n",
       "        vertical-align: middle;\n",
       "    }\n",
       "\n",
       "    .dataframe tbody tr th {\n",
       "        vertical-align: top;\n",
       "    }\n",
       "\n",
       "    .dataframe thead th {\n",
       "        text-align: right;\n",
       "    }\n",
       "</style>\n",
       "<table border=\"1\" class=\"dataframe\">\n",
       "  <thead>\n",
       "    <tr style=\"text-align: right;\">\n",
       "      <th>countriesAndTerritories</th>\n",
       "      <th>dateRep</th>\n",
       "      <th>Brazil</th>\n",
       "      <th>China</th>\n",
       "      <th>Germany</th>\n",
       "      <th>Italy</th>\n",
       "      <th>United_States_of_America</th>\n",
       "      <th>totalCasesBrazil</th>\n",
       "      <th>totalCasesChina</th>\n",
       "      <th>totalCasesGermany</th>\n",
       "      <th>totalCasesItaly</th>\n",
       "      <th>totalCasesUnited_States_of_America</th>\n",
       "    </tr>\n",
       "  </thead>\n",
       "  <tbody>\n",
       "    <tr>\n",
       "      <th>114</th>\n",
       "      <td>2020-04-23</td>\n",
       "      <td>2678</td>\n",
       "      <td>12</td>\n",
       "      <td>2352</td>\n",
       "      <td>3370</td>\n",
       "      <td>17588</td>\n",
       "      <td>45757</td>\n",
       "      <td>83876</td>\n",
       "      <td>148046</td>\n",
       "      <td>187327</td>\n",
       "      <td>842629</td>\n",
       "    </tr>\n",
       "    <tr>\n",
       "      <th>115</th>\n",
       "      <td>2020-04-24</td>\n",
       "      <td>3735</td>\n",
       "      <td>8</td>\n",
       "      <td>2337</td>\n",
       "      <td>2646</td>\n",
       "      <td>26543</td>\n",
       "      <td>49492</td>\n",
       "      <td>83884</td>\n",
       "      <td>150383</td>\n",
       "      <td>189973</td>\n",
       "      <td>869172</td>\n",
       "    </tr>\n",
       "    <tr>\n",
       "      <th>116</th>\n",
       "      <td>2020-04-25</td>\n",
       "      <td>3503</td>\n",
       "      <td>15</td>\n",
       "      <td>2055</td>\n",
       "      <td>3021</td>\n",
       "      <td>21352</td>\n",
       "      <td>52995</td>\n",
       "      <td>83899</td>\n",
       "      <td>152438</td>\n",
       "      <td>192994</td>\n",
       "      <td>890524</td>\n",
       "    </tr>\n",
       "    <tr>\n",
       "      <th>117</th>\n",
       "      <td>2020-04-26</td>\n",
       "      <td>5514</td>\n",
       "      <td>10</td>\n",
       "      <td>1737</td>\n",
       "      <td>2357</td>\n",
       "      <td>48529</td>\n",
       "      <td>58509</td>\n",
       "      <td>83909</td>\n",
       "      <td>154175</td>\n",
       "      <td>195351</td>\n",
       "      <td>939053</td>\n",
       "    </tr>\n",
       "    <tr>\n",
       "      <th>118</th>\n",
       "      <td>2020-04-27</td>\n",
       "      <td>3379</td>\n",
       "      <td>290</td>\n",
       "      <td>1018</td>\n",
       "      <td>2324</td>\n",
       "      <td>26857</td>\n",
       "      <td>61888</td>\n",
       "      <td>84199</td>\n",
       "      <td>155193</td>\n",
       "      <td>197675</td>\n",
       "      <td>965910</td>\n",
       "    </tr>\n",
       "  </tbody>\n",
       "</table>\n",
       "</div>"
      ],
      "text/plain": [
       "countriesAndTerritories    dateRep  Brazil  China  Germany  Italy  \\\n",
       "114                     2020-04-23    2678     12     2352   3370   \n",
       "115                     2020-04-24    3735      8     2337   2646   \n",
       "116                     2020-04-25    3503     15     2055   3021   \n",
       "117                     2020-04-26    5514     10     1737   2357   \n",
       "118                     2020-04-27    3379    290     1018   2324   \n",
       "\n",
       "countriesAndTerritories  United_States_of_America  totalCasesBrazil  \\\n",
       "114                                         17588             45757   \n",
       "115                                         26543             49492   \n",
       "116                                         21352             52995   \n",
       "117                                         48529             58509   \n",
       "118                                         26857             61888   \n",
       "\n",
       "countriesAndTerritories  totalCasesChina  totalCasesGermany  totalCasesItaly  \\\n",
       "114                                83876             148046           187327   \n",
       "115                                83884             150383           189973   \n",
       "116                                83899             152438           192994   \n",
       "117                                83909             154175           195351   \n",
       "118                                84199             155193           197675   \n",
       "\n",
       "countriesAndTerritories  totalCasesUnited_States_of_America  \n",
       "114                                                  842629  \n",
       "115                                                  869172  \n",
       "116                                                  890524  \n",
       "117                                                  939053  \n",
       "118                                                  965910  "
      ]
     },
     "execution_count": 11,
     "metadata": {},
     "output_type": "execute_result"
    }
   ],
   "source": [
    "dfNewCases.tail()"
   ]
  }
 ],
 "metadata": {
  "kernelspec": {
   "display_name": "Python 3",
   "language": "python",
   "name": "python3"
  },
  "language_info": {
   "codemirror_mode": {
    "name": "ipython",
    "version": 3
   },
   "file_extension": ".py",
   "mimetype": "text/x-python",
   "name": "python",
   "nbconvert_exporter": "python",
   "pygments_lexer": "ipython3",
   "version": "3.6.7"
  }
 },
 "nbformat": 4,
 "nbformat_minor": 2
}
